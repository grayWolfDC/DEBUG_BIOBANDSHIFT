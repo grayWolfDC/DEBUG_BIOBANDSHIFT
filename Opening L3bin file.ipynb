{
 "metadata": {
  "name": "",
  "signature": "sha256:4123e5dd18351df67be9fee4a4135e4a7e7ad9953fa10375ac3eb0fed72022db"
 },
 "nbformat": 3,
 "nbformat_minor": 0,
 "worksheets": [
  {
   "cells": [
    {
     "cell_type": "code",
     "collapsed": false,
     "input": [
      "pwd"
     ],
     "language": "python",
     "metadata": {},
     "outputs": [
      {
       "metadata": {},
       "output_type": "pyout",
       "prompt_number": 1,
       "text": [
        "u'/disk01/home/ekarakoy/DEBUG_BIOBANDSHIFT'"
       ]
      }
     ],
     "prompt_number": 1
    },
    {
     "cell_type": "code",
     "collapsed": false,
     "input": [
      "ls NC"
     ],
     "language": "python",
     "metadata": {},
     "outputs": [
      {
       "output_type": "stream",
       "stream": "stdout",
       "text": [
        "A20063532006360.L3b_8D_RRS_9km_all.nc  parfilebo\r\n",
        "A20063532006360.L3b_8D_RRS_9km.nc      S20063532006360.L3b_8D_RRS.nc\r\n",
        "A20063532006360.L3b_8D_RRS.nc          test531bo.nc\r\n",
        "\u001b[0m\u001b[01;34mNNBatch\u001b[0m/                               \u001b[01;34mTestBatch1\u001b[0m/\r\n",
        "parfile                                \u001b[01;34mTestBatch2_post_dbg\u001b[0m/\r\n"
       ]
      }
     ],
     "prompt_number": 2
    },
    {
     "cell_type": "code",
     "collapsed": false,
     "input": [
      "import netCDF4 as nc"
     ],
     "language": "python",
     "metadata": {},
     "outputs": [],
     "prompt_number": 5
    },
    {
     "cell_type": "code",
     "collapsed": false,
     "input": [
      "f=nc.Dataset('NC/S20063532006360.L3b_8D_RRS.nc')"
     ],
     "language": "python",
     "metadata": {},
     "outputs": [],
     "prompt_number": 6
    },
    {
     "cell_type": "code",
     "collapsed": false,
     "input": [
      "print(f)"
     ],
     "language": "python",
     "metadata": {},
     "outputs": [
      {
       "output_type": "stream",
       "stream": "stdout",
       "text": [
        "<type 'netCDF4.Dataset'>\n",
        "root group (NETCDF4 data model, file format UNDEFINED):\n",
        "    product_name: S20063532006360.L3b_8D_RRS.nc\n",
        "    title: SeaWiFS Level-3 Binned Data\n",
        "    instrument: SeaWiFS\n",
        "    platform: SeaStar SeaWiFS\n",
        "    temporal_range: day\n",
        "    start_orbit_number: 49946\n",
        "    end_orbit_number: 50069\n",
        "    date_created: 2015035144456000\n",
        "    processing_version: Unspecified\n",
        "    history: l3bin in=./DataSource/S20063532006360.L3b_8D_RRS.main out=S20063532006360.L3b_8D_RRS.nc oformat=2\n",
        "    time_coverage_start: 2006-12-18T18:15:00.665Z\n",
        "    time_coverage_end: 2006-12-20T05:34:01.961Z\n",
        "    northernmost_latitude: 45.7917\n",
        "    southernmost_latitude: -78.5417\n",
        "    easternmost_longitude: 179.958\n",
        "    westernmost_longitude: -179.958\n",
        "    geospatial_lat_max: 45.7916679382\n",
        "    geospatial_lat_min: -78.5416641235\n",
        "    geospatial_lon_max: 179.958328247\n",
        "    geospatial_lon_min: -179.958328247\n",
        "    geospatial_lat_units: degrees_north\n",
        "    geospatial_lon_units: degrees_east\n",
        "    geospatial_lon_resolution: 0.0833333333333\n",
        "    geospatial_lat_resolution: 0.0833333333333\n",
        "    spatialResolution: 9.2 km\n",
        "    data_bins: 1881668\n",
        "    percent_data_bins: 31.6757\n",
        "    units: angstrom:dimensionless,aot_865:dimensionless,Rrs_412:sr^-1,Rrs_443:sr^-1,Rrs_490:sr^-1,Rrs_510:sr^-1,Rrs_555:sr^-1,Rrs_670:sr^-1\n",
        "    binning_scheme: Integerized Sinusoidal Grid\n",
        "    project: Ocean Biology Processing Group (NASA/GSFC/OBPG)\n",
        "    institution: NASA Goddard Space Flight Center, Ocean Ecology Laboratory, Ocean Biology Processing Group\n",
        "    standard_name_vocabulary: NetCDF Climate and Forecast (CF) Metadata Conventions\n",
        "    Metadata_Conventions: Unidata Dataset Discovery v1.0\n",
        "    Conventions: CF-1.6, Unidata Dataset Discovery v1.0\n",
        "    naming_authority: gov.nasa.gsfc.sci.oceandata\n",
        "    id: L3/S20063532006360.L3b_8D_RRS.nc\n",
        "    license: http://science.nasa.gov/earth-science/earth-science-data/data-information-policy/\n",
        "    creator_name: NASA/GSFC/OBPG\n",
        "    publisher_name: NASA/GSFC/OBPG\n",
        "    creator_email: data@oceancolor.gsfc.nasa.gov\n",
        "    publisher_email: data@oceancolor.gsfc.nasa.gov\n",
        "    creator_url: http://oceandata.sci.gsfc.nasa.gov\n",
        "    publisher_url: http://oceandata.sci.gsfc.nasa.gov\n",
        "    processing_level: L3 Binned\n",
        "    cdm_data_type: point\n",
        "    identifier_product_doi_authority: http://dx.doi.org\n",
        "    identifier_product_doi: 10.5067/ORBVIEW-2/SEAWIFS_OC.2014.0\n",
        "    keywords: Oceans > Ocean Chemistry > Chlorophyll; Oceans > Ocean Optics > Ocean Color\n",
        "    keywords_vocabulary: NASA Global Change Master Directory (GCMD) Science Keywords\n",
        "    dimensions(sizes): \n",
        "    variables(dimensions): \n",
        "    groups: level-3_binned_data, processing_control\n",
        "\n"
       ]
      }
     ],
     "prompt_number": 8
    },
    {
     "cell_type": "code",
     "collapsed": false,
     "input": [
      "print(f.groups)"
     ],
     "language": "python",
     "metadata": {},
     "outputs": [
      {
       "output_type": "stream",
       "stream": "stdout",
       "text": [
        "OrderedDict([(u'level-3_binned_data', <netCDF4.Group object at 0x7f0de64d4770>), (u'processing_control', <netCDF4.Group object at 0x7f0de64d4e90>)])\n"
       ]
      }
     ],
     "prompt_number": 9
    },
    {
     "cell_type": "code",
     "collapsed": false,
     "input": [
      "l3b=f.groups['level-3_binned_data']"
     ],
     "language": "python",
     "metadata": {},
     "outputs": [],
     "prompt_number": 18
    },
    {
     "cell_type": "code",
     "collapsed": false,
     "input": [
      "print l3b.variables"
     ],
     "language": "python",
     "metadata": {},
     "outputs": [
      {
       "output_type": "stream",
       "stream": "stdout",
       "text": [
        "OrderedDict([(u'BinList', <netCDF4.Variable object at 0x7f0de64d48a0>), (u'angstrom', <netCDF4.Variable object at 0x7f0de64d4938>), (u'aot_865', <netCDF4.Variable object at 0x7f0de64d49d0>), (u'Rrs_412', <netCDF4.Variable object at 0x7f0de64d4a68>), (u'Rrs_443', <netCDF4.Variable object at 0x7f0de64d4b00>), (u'Rrs_490', <netCDF4.Variable object at 0x7f0de64d4b98>), (u'Rrs_510', <netCDF4.Variable object at 0x7f0de64d4c30>), (u'Rrs_555', <netCDF4.Variable object at 0x7f0de64d4cc8>), (u'Rrs_670', <netCDF4.Variable object at 0x7f0de64d4d60>), (u'BinIndex', <netCDF4.Variable object at 0x7f0de64d4df8>)])\n"
       ]
      }
     ],
     "prompt_number": 23
    },
    {
     "cell_type": "code",
     "collapsed": false,
     "input": [
      "binIndex=l3b.variables['BinIndex']"
     ],
     "language": "python",
     "metadata": {},
     "outputs": [],
     "prompt_number": 24
    },
    {
     "cell_type": "code",
     "collapsed": false,
     "input": [
      "binIndex[1000:1040]"
     ],
     "language": "python",
     "metadata": {},
     "outputs": [
      {
       "metadata": {},
       "output_type": "pyout",
       "prompt_number": 65,
       "text": [
        "array([(2625391L, 2625391L, 2006L, 4291L),\n",
        "       (2629682L, 2629685L, 1970L, 4292L),\n",
        "       (2633974L, 2633977L, 1967L, 4293L),\n",
        "       (2638267L, 2638269L, 1969L, 4293L),\n",
        "       (2642560L, 2642562L, 1981L, 4294L),\n",
        "       (2646854L, 2646860L, 1934L, 4295L),\n",
        "       (2651149L, 2651152L, 1965L, 4295L),\n",
        "       (2655444L, 2655447L, 1948L, 4296L),\n",
        "       (2659740L, 2659743L, 1923L, 4297L),\n",
        "       (2664037L, 2664037L, 1936L, 4297L),\n",
        "       (2668334L, 2668338L, 1977L, 4298L),\n",
        "       (2672632L, 2672632L, 1928L, 4299L),\n",
        "       (2676931L, 2676931L, 1931L, 4299L),\n",
        "       (2681230L, 2681230L, 1933L, 4300L),\n",
        "       (2685530L, 2685535L, 1925L, 4300L),\n",
        "       (2689830L, 2689839L, 1955L, 4301L),\n",
        "       (2694131L, 2694139L, 1977L, 4302L),\n",
        "       (2698433L, 2698439L, 1970L, 4302L),\n",
        "       (2702735L, 2702736L, 2006L, 4303L),\n",
        "       (2707038L, 2707039L, 2008L, 4303L),\n",
        "       (2711341L, 2711341L, 2001L, 4304L),\n",
        "       (2715645L, 2715645L, 1958L, 4304L),\n",
        "       (2719949L, 2719949L, 1969L, 4305L),\n",
        "       (2724254L, 2724258L, 1913L, 4305L),\n",
        "       (2728559L, 2728559L, 1892L, 4306L),\n",
        "       (2732865L, 2732865L, 1882L, 4306L),\n",
        "       (2737171L, 2737171L, 1914L, 4307L),\n",
        "       (2741478L, 2741478L, 1921L, 4307L),\n",
        "       (2745785L, 2745785L, 1911L, 4308L),\n",
        "       (2750093L, 2750093L, 1922L, 4308L),\n",
        "       (2754401L, 2754401L, 1966L, 4309L),\n",
        "       (2758710L, 2758710L, 1933L, 4309L),\n",
        "       (2763019L, 2763019L, 1930L, 4310L),\n",
        "       (2767329L, 2767329L, 1899L, 4310L),\n",
        "       (2771639L, 2771639L, 1856L, 4311L),\n",
        "       (2775950L, 2775951L, 1908L, 4311L),\n",
        "       (2780261L, 2780262L, 1903L, 4311L),\n",
        "       (2784572L, 2784572L, 1890L, 4312L),\n",
        "       (2788884L, 2788889L, 1838L, 4312L),\n",
        "       (2793196L, 2793200L, 1843L, 4313L)], \n",
        "      dtype={'names':[u'start_num',u'begin',u'extent',u'max'], 'formats':['<u4','<u4','<u4','<u4'], 'offsets':[0,4,8,12], 'itemsize':16, 'aligned':True})"
       ]
      }
     ],
     "prompt_number": 65
    },
    {
     "cell_type": "code",
     "collapsed": false,
     "input": [
      "z=[a for _,_,a,_ in binIndex]"
     ],
     "language": "python",
     "metadata": {},
     "outputs": [],
     "prompt_number": 60
    },
    {
     "cell_type": "code",
     "collapsed": false,
     "input": [
      "Zsum=sum(z)\n",
      "print Zsum\n"
     ],
     "language": "python",
     "metadata": {},
     "outputs": [
      {
       "output_type": "stream",
       "stream": "stdout",
       "text": [
        "1881668\n"
       ]
      }
     ],
     "prompt_number": 61
    },
    {
     "cell_type": "code",
     "collapsed": false,
     "input": [
      "Rrs412=l3b.variables['BinIndex']"
     ],
     "language": "python",
     "metadata": {},
     "outputs": [],
     "prompt_number": 50
    },
    {
     "cell_type": "code",
     "collapsed": false,
     "input": [
      "Rrs412.shape"
     ],
     "language": "python",
     "metadata": {},
     "outputs": [
      {
       "metadata": {},
       "output_type": "pyout",
       "prompt_number": 51,
       "text": [
        "(2160,)"
       ]
      }
     ],
     "prompt_number": 51
    },
    {
     "cell_type": "code",
     "collapsed": false,
     "input": [
      "bins=l3b.variables['BinList']"
     ],
     "language": "python",
     "metadata": {},
     "outputs": [],
     "prompt_number": 21
    },
    {
     "cell_type": "code",
     "collapsed": false,
     "input": [
      "bins.shape"
     ],
     "language": "python",
     "metadata": {},
     "outputs": [
      {
       "metadata": {},
       "output_type": "pyout",
       "prompt_number": 22,
       "text": [
        "(1881668,)"
       ]
      }
     ],
     "prompt_number": 22
    },
    {
     "cell_type": "code",
     "collapsed": false,
     "input": [
      "bins[0:10]"
     ],
     "language": "python",
     "metadata": {},
     "outputs": [
      {
       "metadata": {},
       "output_type": "pyout",
       "prompt_number": 27,
       "text": [
        "array([(58807L, 1, 1, 1.0, 0.0), (58808L, 1, 1, 1.0, 0.0),\n",
        "       (59664L, 3, 3, 3.0, 0.0), (59665L, 3, 2, 2.4142136573791504, 0.0),\n",
        "       (59666L, 9, 6, 7.0, 0.0), (60528L, 3, 2, 2.4142136573791504, 0.0),\n",
        "       (60529L, 6, 4, 4.732050895690918, 0.0),\n",
        "       (60530L, 12, 5, 7.560478210449219, 0.0),\n",
        "       (60531L, 10, 7, 8.242640495300293, 0.0), (61376L, 1, 1, 1.0, 0.0)], \n",
        "      dtype={'names':[u'bin_num',u'nobs',u'nscenes',u'weights',u'time_rec'], 'formats':['<u4','<i2','<i2','<f4','<f4'], 'offsets':[0,4,6,8,12], 'itemsize':16, 'aligned':True})"
       ]
      }
     ],
     "prompt_number": 27
    },
    {
     "cell_type": "code",
     "collapsed": false,
     "input": [
      "print(f.groups['processing_control'])"
     ],
     "language": "python",
     "metadata": {},
     "outputs": [
      {
       "output_type": "stream",
       "stream": "stdout",
       "text": [
        "<type 'netCDF4.Group'>\n",
        "group /processing_control:\n",
        "    software_name: L3BIN\n",
        "    software_version: 4.02\n",
        "    source: S20063532006360.L3b_8D_RRS.main\n",
        "    l2_flag_names: ATMFAIL,LAND,HILT,HISATZEN,STRAYLIGHT,CLDICE,COCCOLITH,LOWLW,CHLWARN,CHLFAIL,NAVWARN,MAXAERITER,ATMWARN,HISOLZEN,NAVFAIL,FILTER,HIGLINT\n",
        "    dimensions(sizes): \n",
        "    variables(dimensions): \n",
        "    groups: input_parameters\n",
        "\n"
       ]
      }
     ],
     "prompt_number": 15
    },
    {
     "cell_type": "code",
     "collapsed": false,
     "input": [
      "0.1247*2\n"
     ],
     "language": "python",
     "metadata": {},
     "outputs": [
      {
       "metadata": {},
       "output_type": "pyout",
       "prompt_number": 17,
       "text": [
        "0.2494"
       ]
      }
     ],
     "prompt_number": 17
    },
    {
     "cell_type": "code",
     "collapsed": false,
     "input": [],
     "language": "python",
     "metadata": {},
     "outputs": []
    }
   ],
   "metadata": {}
  }
 ]
}