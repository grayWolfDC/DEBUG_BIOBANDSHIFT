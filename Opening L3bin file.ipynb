{
 "metadata": {
  "name": "",
  "signature": "sha256:734953595b36d4bfcb79b16a15bfeac1a4f217e49a96ae3fbbedafdc9d166c07"
 },
 "nbformat": 3,
 "nbformat_minor": 0,
 "worksheets": [
  {
   "cells": [
    {
     "cell_type": "code",
     "collapsed": false,
     "input": [
      "pwd"
     ],
     "language": "python",
     "metadata": {},
     "outputs": [
      {
       "metadata": {},
       "output_type": "pyout",
       "prompt_number": 1,
       "text": [
        "u'/disk01/home/ekarakoy/DEBUG_BIOBANDSHIFT'"
       ]
      }
     ],
     "prompt_number": 1
    },
    {
     "cell_type": "code",
     "collapsed": false,
     "input": [
      "ls NC"
     ],
     "language": "python",
     "metadata": {},
     "outputs": [
      {
       "output_type": "stream",
       "stream": "stdout",
       "text": [
        "A20063532006360.L3b_8D_RRS_9km_all.nc  S20063532006360.L3b_8D_RRS.nc\r\n",
        "A20063532006360.L3b_8D_RRS_9km.nc      test531bo.nc\r\n",
        "A20063532006360.L3b_8D_RRS.nc          \u001b[0m\u001b[01;34mTestBatch1\u001b[0m/\r\n",
        "\u001b[01;34mNNBatch\u001b[0m/                               \u001b[01;34mTestBatch2_post_dbg\u001b[0m/\r\n",
        "parfile                                \u001b[01;34mTestBatch3_correctRrs\u001b[0m/\r\n",
        "parfilebo\r\n"
       ]
      }
     ],
     "prompt_number": 2
    },
    {
     "cell_type": "code",
     "collapsed": false,
     "input": [
      "import netCDF4 as nc"
     ],
     "language": "python",
     "metadata": {},
     "outputs": [],
     "prompt_number": 3
    },
    {
     "cell_type": "code",
     "collapsed": false,
     "input": [
      "f=nc.Dataset('NC/A20063532006360.L3b_8D_RRS_9km.nc')"
     ],
     "language": "python",
     "metadata": {},
     "outputs": [],
     "prompt_number": 4
    },
    {
     "cell_type": "code",
     "collapsed": false,
     "input": [
      "print(f)"
     ],
     "language": "python",
     "metadata": {},
     "outputs": [
      {
       "output_type": "stream",
       "stream": "stdout",
       "text": [
        "<type 'netCDF4.Dataset'>\n",
        "root group (NETCDF4 data model, file format UNDEFINED):\n",
        "    product_name: A20063532006360.L3b_8D_RRS_9km.nc\n",
        "    title: MODIS Level-3 Binned Data\n",
        "    instrument: MODIS\n",
        "    platform: Aqua\n",
        "    temporal_range: day\n",
        "    start_orbit_number: 24607\n",
        "    end_orbit_number: 24725\n",
        "    date_created: 2015005201801000\n",
        "    processing_version: Unspecified\n",
        "    history: l3bin in=A20063532006360.L3b_8D_RRS.main out=A20063532006360.L3b_8D_RRS_9km.nc reduce_fac=2 oformat=2\n",
        "    time_coverage_start: 2006-12-19T00:00:08.829Z\n",
        "    time_coverage_end: 2006-12-20T03:00:07.276Z\n",
        "    northernmost_latitude: 46.5417\n",
        "    southernmost_latitude: -78.5417\n",
        "    easternmost_longitude: 179.958\n",
        "    westernmost_longitude: -179.958\n",
        "    geospatial_lat_max: 46.5416679382\n",
        "    geospatial_lat_min: -78.5416641235\n",
        "    geospatial_lon_max: 179.958328247\n",
        "    geospatial_lon_min: -179.958328247\n",
        "    geospatial_lat_units: degrees_north\n",
        "    geospatial_lon_units: degrees_east\n",
        "    geospatial_lon_resolution: 0.0833333333333\n",
        "    geospatial_lat_resolution: 0.0833333333333\n",
        "    spatialResolution: 9.2 km\n",
        "    data_bins: 2225534\n",
        "    percent_data_bins: 37.4642\n",
        "    units: angstrom:dimensionless,aot_869:dimensionless,Rrs_412:sr^-1,Rrs_443:sr^-1,Rrs_469:sr^-1,Rrs_488:sr^-1,Rrs_531:sr^-1,Rrs_547:sr^-1,Rrs_555:sr^-1,Rrs_645:sr^-1,Rrs_667:sr^-1,Rrs_678:sr^-1\n",
        "    binning_scheme: Integerized Sinusoidal Grid\n",
        "    project: Ocean Biology Processing Group (NASA/GSFC/OBPG)\n",
        "    institution: NASA Goddard Space Flight Center, Ocean Ecology Laboratory, Ocean Biology Processing Group\n",
        "    standard_name_vocabulary: NetCDF Climate and Forecast (CF) Metadata Conventions\n",
        "    Metadata_Conventions: Unidata Dataset Discovery v1.0\n",
        "    Conventions: CF-1.6, Unidata Dataset Discovery v1.0\n",
        "    naming_authority: gov.nasa.gsfc.sci.oceandata\n",
        "    id: L3/A20063532006360.L3b_8D_RRS_9km.nc\n",
        "    license: http://science.nasa.gov/earth-science/earth-science-data/data-information-policy/\n",
        "    creator_name: NASA/GSFC/OBPG\n",
        "    publisher_name: NASA/GSFC/OBPG\n",
        "    creator_email: data@oceancolor.gsfc.nasa.gov\n",
        "    publisher_email: data@oceancolor.gsfc.nasa.gov\n",
        "    creator_url: http://oceandata.sci.gsfc.nasa.gov\n",
        "    publisher_url: http://oceandata.sci.gsfc.nasa.gov\n",
        "    processing_level: L3 Binned\n",
        "    cdm_data_type: point\n",
        "    identifier_product_doi_authority: http://dx.doi.org\n",
        "    identifier_product_doi: 10.5067/AQUA/MODIS_OC.2014.0\n",
        "    keywords: Oceans > Ocean Chemistry > Chlorophyll; Oceans > Ocean Optics > Ocean Color\n",
        "    keywords_vocabulary: NASA Global Change Master Directory (GCMD) Science Keywords\n",
        "    dimensions(sizes): \n",
        "    variables(dimensions): \n",
        "    groups: level-3_binned_data, processing_control\n",
        "\n"
       ]
      }
     ],
     "prompt_number": 5
    },
    {
     "cell_type": "code",
     "collapsed": false,
     "input": [
      "print(f.groups)"
     ],
     "language": "python",
     "metadata": {},
     "outputs": [
      {
       "output_type": "stream",
       "stream": "stdout",
       "text": [
        "OrderedDict([(u'level-3_binned_data', <netCDF4.Group object at 0x7f2d00133d60>), (u'processing_control', <netCDF4.Group object at 0x7f2d000636d8>)])\n"
       ]
      }
     ],
     "prompt_number": 6
    },
    {
     "cell_type": "code",
     "collapsed": false,
     "input": [
      "print(f.groups['processing_control'])"
     ],
     "language": "python",
     "metadata": {},
     "outputs": [
      {
       "output_type": "stream",
       "stream": "stdout",
       "text": [
        "<type 'netCDF4.Group'>\n",
        "group /processing_control:\n",
        "    software_name: L3BIN\n",
        "    software_version: 4.02\n",
        "    source: A20063532006360.L3b_8D_RRS.main\n",
        "    l2_flag_names: ATMFAIL,LAND,HILT,HISATZEN,STRAYLIGHT,CLDICE,COCCOLITH,LOWLW,CHLWARN,CHLFAIL,NAVWARN,MAXAERITER,ATMWARN,HISOLZEN,NAVFAIL,FILTER,HIGLINT\n",
        "    dimensions(sizes): \n",
        "    variables(dimensions): \n",
        "    groups: input_parameters\n",
        "\n"
       ]
      }
     ],
     "prompt_number": 21
    },
    {
     "cell_type": "code",
     "collapsed": false,
     "input": [
      "l3b=f.groups['level-3_binned_data']"
     ],
     "language": "python",
     "metadata": {},
     "outputs": [],
     "prompt_number": 7
    },
    {
     "cell_type": "code",
     "collapsed": false,
     "input": [
      "print l3b.variables"
     ],
     "language": "python",
     "metadata": {},
     "outputs": [
      {
       "output_type": "stream",
       "stream": "stdout",
       "text": [
        "OrderedDict([(u'BinList', <netCDF4.Variable object at 0x7f2d00133df8>), (u'angstrom', <netCDF4.Variable object at 0x7f2d00133e90>), (u'aot_869', <netCDF4.Variable object at 0x7f2d00133f28>), (u'Rrs_412', <netCDF4.Variable object at 0x7f2d00063050>), (u'Rrs_443', <netCDF4.Variable object at 0x7f2d000630e8>), (u'Rrs_469', <netCDF4.Variable object at 0x7f2d00063180>), (u'Rrs_488', <netCDF4.Variable object at 0x7f2d00063218>), (u'Rrs_531', <netCDF4.Variable object at 0x7f2d000632b0>), (u'Rrs_547', <netCDF4.Variable object at 0x7f2d00063348>), (u'Rrs_555', <netCDF4.Variable object at 0x7f2d000633e0>), (u'Rrs_645', <netCDF4.Variable object at 0x7f2d00063478>), (u'Rrs_667', <netCDF4.Variable object at 0x7f2d00063510>), (u'Rrs_678', <netCDF4.Variable object at 0x7f2d000635a8>), (u'BinIndex', <netCDF4.Variable object at 0x7f2d00063640>)])\n"
       ]
      }
     ],
     "prompt_number": 8
    },
    {
     "cell_type": "code",
     "collapsed": false,
     "input": [
      "#Probably n_data_prod is the below - 2, skipping binList and binIndex. To be confirmed...\n",
      "len(l3b.variables)"
     ],
     "language": "python",
     "metadata": {},
     "outputs": [
      {
       "metadata": {},
       "output_type": "pyout",
       "prompt_number": 9,
       "text": [
        "14"
       ]
      }
     ],
     "prompt_number": 9
    },
    {
     "cell_type": "code",
     "collapsed": false,
     "input": [
      "binIndex=l3b.variables['BinIndex']\n",
      "binList = l3b.variables['BinList']"
     ],
     "language": "python",
     "metadata": {},
     "outputs": [],
     "prompt_number": 11
    },
    {
     "cell_type": "code",
     "collapsed": false,
     "input": [
      "# This gives the total number of rows\n",
      "# input_binfile->num\n",
      "binIndex.shape"
     ],
     "language": "python",
     "metadata": {},
     "outputs": [
      {
       "metadata": {},
       "output_type": "pyout",
       "prompt_number": 19,
       "text": [
        "(2160,)"
       ]
      }
     ],
     "prompt_number": 19
    },
    {
     "cell_type": "code",
     "collapsed": false,
     "input": [
      "binIndex[0:10]"
     ],
     "language": "python",
     "metadata": {},
     "outputs": [
      {
       "metadata": {},
       "output_type": "pyout",
       "prompt_number": 17,
       "text": [
        "array([(1L, 0L, 0L, 3L), (4L, 0L, 0L, 9L), (13L, 0L, 0L, 16L),\n",
        "       (29L, 0L, 0L, 22L), (51L, 0L, 0L, 28L), (79L, 0L, 0L, 35L),\n",
        "       (114L, 0L, 0L, 41L), (155L, 0L, 0L, 47L), (202L, 0L, 0L, 53L),\n",
        "       (255L, 0L, 0L, 60L)], \n",
        "      dtype={'names':[u'start_num',u'begin',u'extent',u'max'], 'formats':['<u4','<u4','<u4','<u4'], 'offsets':[0,4,8,12], 'itemsize':16, 'aligned':True})"
       ]
      }
     ],
     "prompt_number": 17
    },
    {
     "cell_type": "code",
     "collapsed": false,
     "input": [
      "# Summing the 'max' part of the binIndex tuple gives the total number of bins\n",
      "#input_binfile->totbins\n",
      "z=[a for _,_,_,a in binIndex]\n",
      "sum(z)"
     ],
     "language": "python",
     "metadata": {},
     "outputs": [
      {
       "metadata": {},
       "output_type": "pyout",
       "prompt_number": 12,
       "text": [
        "5940422"
       ]
      }
     ],
     "prompt_number": 12
    },
    {
     "cell_type": "code",
     "collapsed": false,
     "input": [
      "# Summing the 'extent' part of the binIndex tuple gives the total number actual records (valid bins)\n",
      "z=[a for _,_,a,_ in binIndex]\n",
      "sum(z)"
     ],
     "language": "python",
     "metadata": {},
     "outputs": [
      {
       "metadata": {},
       "output_type": "pyout",
       "prompt_number": 20,
       "text": [
        "2225534"
       ]
      }
     ],
     "prompt_number": 20
    },
    {
     "cell_type": "code",
     "collapsed": false,
     "input": [
      "binList[0:10]"
     ],
     "language": "python",
     "metadata": {},
     "outputs": [
      {
       "metadata": {},
       "output_type": "pyout",
       "prompt_number": 33,
       "text": [
        "array([(58806L, 3, 1, 1.7320507764816284, 0.0),\n",
        "       (58807L, 55, 7, 19.083904266357422, 0.0), (58808L, 2, 2, 2.0, 0.0),\n",
        "       (59657L, 4, 2, 2.732050895690918, 0.0),\n",
        "       (59658L, 27, 4, 9.841102600097656, 0.0),\n",
        "       (59659L, 31, 4, 11.085946083068848, 0.0),\n",
        "       (59660L, 30, 4, 9.761422157287598, 0.0),\n",
        "       (59661L, 48, 5, 14.57903003692627, 0.0),\n",
        "       (59662L, 37, 7, 14.954020500183105, 0.0),\n",
        "       (59663L, 90, 13, 31.41494369506836, 0.0)], \n",
        "      dtype={'names':[u'bin_num',u'nobs',u'nscenes',u'weights',u'time_rec'], 'formats':['<u4','<i2','<i2','<f4','<f4'], 'offsets':[0,4,6,8,12], 'itemsize':16, 'aligned':True})"
       ]
      }
     ],
     "prompt_number": 33
    },
    {
     "cell_type": "code",
     "collapsed": false,
     "input": [
      "angstrom=l3b.variables['angstrom']\n",
      "angstrom[0:10]"
     ],
     "language": "python",
     "metadata": {},
     "outputs": [
      {
       "metadata": {},
       "output_type": "pyout",
       "prompt_number": 29,
       "text": [
        "array([(2.736063003540039, 4.385628700256348),\n",
        "       (31.824951171875, 56.008750915527344),\n",
        "       (3.1669998168945312, 5.139444828033447),\n",
        "       (5.712628364562988, 11.944979667663574),\n",
        "       (17.867570877075195, 34.386810302734375),\n",
        "       (23.00946617126465, 47.76117706298828),\n",
        "       (20.15516471862793, 41.63301467895508),\n",
        "       (29.947193145751953, 61.724727630615234),\n",
        "       (27.993873596191406, 52.84685516357422),\n",
        "       (60.63279724121094, 118.97947692871094)], \n",
        "      dtype={'names':[u'sum',u'sum_squared'], 'formats':['<f4','<f4'], 'offsets':[0,4], 'itemsize':8, 'aligned':True})"
       ]
      }
     ],
     "prompt_number": 29
    },
    {
     "cell_type": "code",
     "collapsed": false,
     "input": [
      "Rrs412=l3b.variables['Rrs_412']"
     ],
     "language": "python",
     "metadata": {},
     "outputs": [],
     "prompt_number": 25
    },
    {
     "cell_type": "code",
     "collapsed": false,
     "input": [
      "Rrs412.shape # reflects the number of actual records"
     ],
     "language": "python",
     "metadata": {},
     "outputs": [
      {
       "metadata": {},
       "output_type": "pyout",
       "prompt_number": 26,
       "text": [
        "(2225534,)"
       ]
      }
     ],
     "prompt_number": 26
    },
    {
     "cell_type": "code",
     "collapsed": false,
     "input": [
      "Rrs412[0:10]"
     ],
     "language": "python",
     "metadata": {},
     "outputs": [
      {
       "metadata": {},
       "output_type": "pyout",
       "prompt_number": 32,
       "text": [
        "array([(0.015811312943696976, 0.0001445036323275417),\n",
        "       (0.2520359754562378, 0.003373266663402319),\n",
        "       (0.028501998633146286, 0.0004097357450518757),\n",
        "       (0.027136921882629395, 0.0002697700110729784),\n",
        "       (0.09747956693172455, 0.0009753635386005044),\n",
        "       (0.12490120530128479, 0.001445284578949213),\n",
        "       (0.1158224567770958, 0.0013821078464388847),\n",
        "       (0.149999737739563, 0.0015606273664161563),\n",
        "       (0.16075292229652405, 0.0017387722618877888),\n",
        "       (0.3044082522392273, 0.002995464950799942)], \n",
        "      dtype={'names':[u'sum',u'sum_squared'], 'formats':['<f4','<f4'], 'offsets':[0,4], 'itemsize':8, 'aligned':True})"
       ]
      }
     ],
     "prompt_number": 32
    },
    {
     "cell_type": "code",
     "collapsed": false,
     "input": [
      "#computing Rrs_nnn by weights returns the equivalent of l2rec->Rrs.\n",
      "Rrs412[0][0]/binList[0][3]"
     ],
     "language": "python",
     "metadata": {},
     "outputs": [
      {
       "metadata": {},
       "output_type": "pyout",
       "prompt_number": 34,
       "text": [
        "0.0091286656"
       ]
      }
     ],
     "prompt_number": 34
    },
    {
     "cell_type": "code",
     "collapsed": false,
     "input": [
      "16*26"
     ],
     "language": "python",
     "metadata": {},
     "outputs": [
      {
       "metadata": {},
       "output_type": "pyout",
       "prompt_number": 36,
       "text": [
        "416"
       ]
      }
     ],
     "prompt_number": 36
    },
    {
     "cell_type": "code",
     "collapsed": false,
     "input": [
      "[[0]*3]*4"
     ],
     "language": "python",
     "metadata": {},
     "outputs": [
      {
       "metadata": {},
       "output_type": "pyout",
       "prompt_number": 37,
       "text": [
        "[[0, 0, 0], [0, 0, 0], [0, 0, 0], [0, 0, 0]]"
       ]
      }
     ],
     "prompt_number": 37
    },
    {
     "cell_type": "code",
     "collapsed": false,
     "input": [
      "[[0 for i in range(3)] for j in range(4)]"
     ],
     "language": "python",
     "metadata": {},
     "outputs": [
      {
       "metadata": {},
       "output_type": "pyout",
       "prompt_number": 39,
       "text": [
        "[[0, 0, 0], [0, 0, 0], [0, 0, 0], [0, 0, 0]]"
       ]
      }
     ],
     "prompt_number": 39
    },
    {
     "cell_type": "code",
     "collapsed": false,
     "input": [
      "M = [[i-j for i in range(3)] for j in range(4)]"
     ],
     "language": "python",
     "metadata": {},
     "outputs": [],
     "prompt_number": 47
    },
    {
     "cell_type": "code",
     "collapsed": false,
     "input": [
      "a"
     ],
     "language": "python",
     "metadata": {},
     "outputs": [
      {
       "metadata": {},
       "output_type": "pyout",
       "prompt_number": 46,
       "text": [
        "[[0, 1, 2], [-1, 0, 1], [-2, -1, 0], [-3, -2, -1]]"
       ]
      }
     ],
     "prompt_number": 46
    },
    {
     "cell_type": "code",
     "collapsed": false,
     "input": [
      "def transpose(M): return[[kr[i] for kr in M] for i in range(len(M[0]))]"
     ],
     "language": "python",
     "metadata": {},
     "outputs": [],
     "prompt_number": 61
    },
    {
     "cell_type": "code",
     "collapsed": false,
     "input": [
      "l=len(M[0])\n",
      "for l in range(len(M[0])):\n",
      "    for kr in M:\n",
      "        print (kr[l])"
     ],
     "language": "python",
     "metadata": {},
     "outputs": [
      {
       "output_type": "stream",
       "stream": "stdout",
       "text": [
        "0\n",
        "-1\n",
        "-2\n",
        "-3\n",
        "1\n",
        "0\n",
        "-1\n",
        "-2\n",
        "2\n",
        "1\n",
        "0\n",
        "-1\n"
       ]
      }
     ],
     "prompt_number": 64
    },
    {
     "cell_type": "code",
     "collapsed": false,
     "input": [
      "print(transpose(M))"
     ],
     "language": "python",
     "metadata": {},
     "outputs": [
      {
       "output_type": "stream",
       "stream": "stdout",
       "text": [
        "[[0, -1, -2, -3], [1, 0, -1, -2], [2, 1, 0, -1]]\n"
       ]
      }
     ],
     "prompt_number": 65
    },
    {
     "cell_type": "code",
     "collapsed": false,
     "input": [
      "print (len(M))"
     ],
     "language": "python",
     "metadata": {},
     "outputs": [
      {
       "output_type": "stream",
       "stream": "stdout",
       "text": [
        "4\n"
       ]
      }
     ],
     "prompt_number": 58
    },
    {
     "cell_type": "code",
     "collapsed": false,
     "input": [],
     "language": "python",
     "metadata": {},
     "outputs": []
    }
   ],
   "metadata": {}
  }
 ]
}