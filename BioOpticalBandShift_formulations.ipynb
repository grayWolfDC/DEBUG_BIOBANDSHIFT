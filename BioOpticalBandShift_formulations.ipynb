{
 "metadata": {
  "name": "",
  "signature": "sha256:beef1c5c9b073f3e753517401680344cbafe5fbc44ee6395fd3045943835f25a"
 },
 "nbformat": 3,
 "nbformat_minor": 0,
 "worksheets": [
  {
   "cells": [
    {
     "cell_type": "code",
     "collapsed": false,
     "input": [
      "import numpy as np\n",
      "import netCDF4 as nc"
     ],
     "language": "python",
     "metadata": {},
     "outputs": [],
     "prompt_number": 5
    },
    {
     "cell_type": "code",
     "collapsed": false,
     "input": [
      "def calc_eta(rrs443,rrsL0):\n",
      "    return 2.0 * (1-1.2* np.exp(-0.9*(rrs443/rrsL0)))\n",
      "\n",
      "def calc_zeta(rrs443,rrsL0):\n",
      "    #equiv. aph_412/aph443\n",
      "    return 0.74+0.74 *(0.2 / (0.8 + rrs443/rrsL0))\n",
      "\n",
      "def calc_xi(rrs443,rrsL0):\n",
      "    #equiv. adg_412/adg443\n",
      "    s=0.015 + 0.002 / (0.6 +rrs443/rrsL0)\n",
      "    return exp(s*(443-412))\n",
      "\n",
      "def calc_u(rrs):\n",
      "    #u=bb(L)/(bb(L)+a(L))=...\n",
      "    return ((-g0**2 + np.sqrt(go+4*g1*rrs))/2*g1)\n",
      "\n",
      "def calc_chi(rrsB,rrsBG,rrsG,rrsR):\n",
      "    #rrsB: blue, rrs(~443)\n",
      "    #rrsBG: blue-green, rrs(~490)\n",
      "    #rrsG: green, rrs(~555)\n",
      "    #rrsR: red, rrs(~670)\n",
      "    return np.log((rrsB + rrsBG)/(rrsG) + 5 * (rrsR/rrsBG)*rrsR)\n",
      "\n",
      "def calc_a(L,chi):\n",
      "    aw_L = getAw(L) + 10**(-1.146 - 1.366*chi-0.469*chi**2)"
     ],
     "language": "python",
     "metadata": {},
     "outputs": []
    },
    {
     "cell_type": "code",
     "collapsed": false,
     "input": [],
     "language": "python",
     "metadata": {},
     "outputs": [],
     "prompt_number": 4
    },
    {
     "cell_type": "code",
     "collapsed": false,
     "input": [
      "g0=0.08945"
     ],
     "language": "python",
     "metadata": {},
     "outputs": []
    }
   ],
   "metadata": {}
  }
 ]
}